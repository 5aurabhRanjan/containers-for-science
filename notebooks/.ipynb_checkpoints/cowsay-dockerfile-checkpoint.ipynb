{
 "cells": [
  {
   "cell_type": "markdown",
   "metadata": {},
   "source": [
    "# Creating our own docker container"
   ]
  },
  {
   "cell_type": "code",
   "execution_count": 10,
   "metadata": {
    "collapsed": false
   },
   "outputs": [
    {
     "name": "stdout",
     "output_type": "stream",
     "text": [
      "Overwriting Dockerfile\n"
     ]
    }
   ],
   "source": [
    "%%file Dockerfile\n",
    "FROM ubuntu:16.04\n",
    "\n",
    "RUN apt-get update \n",
    "RUN apt-get install -y cowsay\n",
    "\n",
    "# cowsay installs into /usr/games. Make avaible in PATH:\n",
    "RUN ln -s /usr/games/cowsay /usr/local/bin \n",
    "\n",
    "CMD [\"/usr/bin/bash\"]"
   ]
  },
  {
   "cell_type": "markdown",
   "metadata": {},
   "source": [
    "Build a docker image based on the `Dockerfile` above (in the current directory). Call it `cowimage`."
   ]
  },
  {
   "cell_type": "code",
   "execution_count": 15,
   "metadata": {
    "collapsed": false
   },
   "outputs": [
    {
     "name": "stdout",
     "output_type": "stream",
     "text": [
      "Sending build context to Docker daemon  25.6 kB\n",
      "Step 1/5 : FROM ubuntu:16.04\n",
      " ---> 0ef2e08ed3fa\n",
      "Step 2/5 : RUN apt-get update\n",
      " ---> Using cache\n",
      " ---> 64d0cc85e4a4\n",
      "Step 3/5 : RUN apt-get install -y cowsay\n",
      " ---> Using cache\n",
      " ---> e4fb0aeee30a\n",
      "Step 4/5 : RUN ln -s /usr/games/cowsay /usr/local/bin\n",
      " ---> Using cache\n",
      " ---> 78da9d9c6dbd\n",
      "Step 5/5 : CMD /usr/bin/bash\n",
      " ---> Using cache\n",
      " ---> 15ccb95a7390\n",
      "Successfully built 15ccb95a7390\n"
     ]
    }
   ],
   "source": [
    "!docker build -t cowimage ."
   ]
  },
  {
   "cell_type": "markdown",
   "metadata": {},
   "source": [
    "Then we can use this image to run commands, for example cowsay:"
   ]
  },
  {
   "cell_type": "code",
   "execution_count": 16,
   "metadata": {
    "collapsed": false
   },
   "outputs": [
    {
     "name": "stdout",
     "output_type": "stream",
     "text": [
      " _______\r\n",
      "< Hello >\r\n",
      " -------\r\n",
      "        \\   ^__^\r\n",
      "         \\  (oo)\\_______\r\n",
      "            (__)\\       )\\/\\\r\n",
      "                ||----w |\r\n",
      "                ||     ||\r\n"
     ]
    }
   ],
   "source": [
    "!docker run cowimage cowsay \"Hello\""
   ]
  },
  {
   "cell_type": "markdown",
   "metadata": {
    "collapsed": true
   },
   "source": [
    "## Exporting an image to a file\n",
    "Often, having a Dockefile as shown above is sufficient to create a computational environment, in particular if all support libraries and the main code itself are open source, and ideally available online.\n",
    "\n",
    "In cases where we need to transport a created container image, we can use the following commands:"
   ]
  },
  {
   "cell_type": "code",
   "execution_count": 1,
   "metadata": {
    "collapsed": true
   },
   "outputs": [],
   "source": [
    "!docker save cowimage > cowimage.tar"
   ]
  },
  {
   "cell_type": "code",
   "execution_count": 3,
   "metadata": {
    "collapsed": false
   },
   "outputs": [
    {
     "name": "stdout",
     "output_type": "stream",
     "text": [
      "-rw-r--r--  1 fangohr  staff   211M 23 Apr 21:15 cowimage.tar\r\n"
     ]
    }
   ],
   "source": [
    "!ls -hl cowimage.tar"
   ]
  },
  {
   "cell_type": "markdown",
   "metadata": {},
   "source": [
    "It's worth trying to compress the image:"
   ]
  },
  {
   "cell_type": "code",
   "execution_count": 7,
   "metadata": {
    "collapsed": false
   },
   "outputs": [
    {
     "name": "stdout",
     "output_type": "stream",
     "text": [
      "gzip: can't stat: cowimage.tar (cowimage.tar): No such file or directory\r\n"
     ]
    }
   ],
   "source": [
    "!gzip cowimage.tar"
   ]
  },
  {
   "cell_type": "code",
   "execution_count": 8,
   "metadata": {
    "collapsed": false
   },
   "outputs": [
    {
     "name": "stdout",
     "output_type": "stream",
     "text": [
      "-rw-r--r--  1 fangohr  staff    88M 23 Apr 21:15 cowimage.tar.gz\r\n"
     ]
    }
   ],
   "source": [
    "!ls -hl cowimage.tar.gz"
   ]
  },
  {
   "cell_type": "markdown",
   "metadata": {},
   "source": [
    "## Importing an image from a file"
   ]
  },
  {
   "cell_type": "code",
   "execution_count": 10,
   "metadata": {
    "collapsed": false
   },
   "outputs": [
    {
     "name": "stdout",
     "output_type": "stream",
     "text": [
      "Loaded image: cowimage:latest\r\n"
     ]
    }
   ],
   "source": [
    "!docker load < cowimage.tar.gz"
   ]
  },
  {
   "cell_type": "code",
   "execution_count": null,
   "metadata": {
    "collapsed": true
   },
   "outputs": [],
   "source": []
  }
 ],
 "metadata": {
  "anaconda-cloud": {},
  "kernelspec": {
   "display_name": "Python 3",
   "language": "python",
   "name": "python3"
  },
  "language_info": {
   "codemirror_mode": {
    "name": "ipython",
    "version": 3
   },
   "file_extension": ".py",
   "mimetype": "text/x-python",
   "name": "python",
   "nbconvert_exporter": "python",
   "pygments_lexer": "ipython3",
   "version": "3.6.0"
  }
 },
 "nbformat": 4,
 "nbformat_minor": 1
}
