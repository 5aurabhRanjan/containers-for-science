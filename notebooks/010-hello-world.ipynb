{
 "cells": [
  {
   "cell_type": "markdown",
   "metadata": {},
   "source": [
    "# Hello World programme in container"
   ]
  },
  {
   "cell_type": "markdown",
   "metadata": {},
   "source": [
    "## Example 1: Executing a bash command inside an Ubuntu container"
   ]
  },
  {
   "cell_type": "markdown",
   "metadata": {},
   "source": [
    "First, we will *pull* the latest Ubuntu (long term support) image from [dockerhub.com](https://hub.docker.com/_/ubuntu/). If you have carried out this operation before, it will be very quick, otherwise it depends a little on the bandwidth of your Internet connection: "
   ]
  },
  {
   "cell_type": "code",
   "execution_count": 1,
   "metadata": {
    "collapsed": false
   },
   "outputs": [
    {
     "name": "stdout",
     "output_type": "stream",
     "text": [
      "Error response from daemon: Get https://registry-1.docker.io/v2/: dial tcp: lookup registry-1.docker.io on 192.168.65.1:53: read udp 192.168.65.2:48456->192.168.65.1:53: i/o timeout\r\n"
     ]
    }
   ],
   "source": [
    "# NBVAL_IGNORE_OUTPUT\n",
    "!docker pull ubuntu:latest"
   ]
  },
  {
   "cell_type": "markdown",
   "metadata": {},
   "source": [
    "Second, we can now execute commands inside that container. For example, the file `/etc/issue` contains information about the version of the Linux distribution. We use the unix command `cat` to conCATenate the contents of that file to the standard output:"
   ]
  },
  {
   "cell_type": "code",
   "execution_count": 2,
   "metadata": {
    "collapsed": false
   },
   "outputs": [
    {
     "name": "stdout",
     "output_type": "stream",
     "text": [
      "Ubuntu 16.04.2 LTS \\n \\l\r\n",
      "\r\n"
     ]
    }
   ],
   "source": [
    "!docker run ubuntu:latest cat /etc/issue"
   ]
  },
  {
   "cell_type": "markdown",
   "metadata": {},
   "source": [
    "As you may guess, the structure of the docker command is \n",
    "- `docker`: the Docker application on your host system\n",
    "- `run`: the command for the docker application - we want to run an image\n",
    "- `ubuntu:latest` : the image that we want to start\n",
    "- all remaining arguments (here `cat /etc/issue`) are being executed inside the running container"
   ]
  },
  {
   "cell_type": "markdown",
   "metadata": {},
   "source": [
    "One way of 'writing' a container hello world program would be this:"
   ]
  },
  {
   "cell_type": "code",
   "execution_count": 3,
   "metadata": {
    "collapsed": false
   },
   "outputs": [
    {
     "name": "stdout",
     "output_type": "stream",
     "text": [
      "Hello World\r\n"
     ]
    }
   ],
   "source": [
    "!docker run ubuntu:latest bash -c \"echo 'Hello World'\""
   ]
  },
  {
   "cell_type": "code",
   "execution_count": null,
   "metadata": {
    "collapsed": true
   },
   "outputs": [],
   "source": []
  }
 ],
 "metadata": {
  "anaconda-cloud": {},
  "kernelspec": {
   "display_name": "Python 3",
   "language": "python",
   "name": "python3"
  },
  "language_info": {
   "codemirror_mode": {
    "name": "ipython",
    "version": 3
   },
   "file_extension": ".py",
   "mimetype": "text/x-python",
   "name": "python",
   "nbconvert_exporter": "python",
   "pygments_lexer": "ipython3",
   "version": "3.6.0"
  }
 },
 "nbformat": 4,
 "nbformat_minor": 1
}
