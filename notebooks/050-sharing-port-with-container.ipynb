{
 "cells": [
  {
   "cell_type": "markdown",
   "metadata": {},
   "source": [
    "# Connecting to a port in the container\n",
    "\n",
    "Another common use case is that we start some kind of long-running process in the container, and talk to it through a port. That process could be a Jupyter Notebook, for example. \n",
    "\n",
    "For demonstration purposes, we will use Python's in-built web server. To run it from the host, we could use"
   ]
  },
  {
   "cell_type": "code",
   "execution_count": 7,
   "metadata": {
    "collapsed": false
   },
   "outputs": [
    {
     "name": "stdout",
     "output_type": "stream",
     "text": [
      "Serving HTTP on 0.0.0.0 port 8000 (http://0.0.0.0:8000/) ...\n",
      "^C\n",
      "\n",
      "Keyboard interrupt received, exiting.\n"
     ]
    }
   ],
   "source": [
    "# NBVAL_SKIP\n",
    "!python -m http.server\n"
   ]
  },
  {
   "cell_type": "markdown",
   "metadata": {},
   "source": [
    "This program will show the contents of the current file system in a webbrowser interface at port 8000 of this machine. So typically at one or some of these links http://127.0.0.1:8000 or http://localhost:8000 or http://0.0.0.0:8000)."
   ]
  },
  {
   "cell_type": "markdown",
   "metadata": {},
   "source": [
    "(If you have executed the above cell by pressing SHIFT+RETURN, you need to interrupt the http.server process to get the control back in the notebook. This can be done by choosing from the menu \"Kernel\" -> \"Interrupt\".)"
   ]
  },
  {
   "cell_type": "markdown",
   "metadata": {},
   "source": [
    "We will now create a container and run this server inside the container. We like to use a webbrowser on the host machine to inspect the files.\n",
    "\n",
    "First, we create the Dockerfile:"
   ]
  },
  {
   "cell_type": "code",
   "execution_count": 4,
   "metadata": {
    "collapsed": false
   },
   "outputs": [
    {
     "name": "stdout",
     "output_type": "stream",
     "text": [
      "Overwriting Dockerfile\n"
     ]
    }
   ],
   "source": [
    "%%file Dockerfile\n",
    "FROM ubuntu:16.04\n",
    "\n",
    "RUN apt-get update\n",
    "RUN apt-get install python3\n",
    "\n",
    "CMD python -m http.server /"
   ]
  },
  {
   "cell_type": "markdown",
   "metadata": {},
   "source": [
    "The last line starts the `http.server` when the container is run."
   ]
  },
  {
   "cell_type": "code",
   "execution_count": 5,
   "metadata": {
    "collapsed": false
   },
   "outputs": [
    {
     "name": "stdout",
     "output_type": "stream",
     "text": [
      "Sending build context to Docker daemon 73.73 kB\n",
      "Step 1/3 : FROM ubuntu:16.04\n",
      " ---> 0ef2e08ed3fa\n",
      "Step 2/3 : RUN apt-get update\n",
      " ---> Using cache\n",
      " ---> 64d0cc85e4a4\n",
      "Step 3/3 : RUN apt-get install python3\n",
      " ---> Running in b33fd2248a88\n",
      "Reading package lists...\n",
      "Building dependency tree...\n",
      "Reading state information...\n",
      "The following additional packages will be installed:\n",
      "  dh-python file libexpat1 libmagic1 libmpdec2 libpython3-stdlib\n",
      "  libpython3.5-minimal libpython3.5-stdlib libsqlite3-0 libssl1.0.0\n",
      "  mime-support python3-minimal python3.5 python3.5-minimal\n",
      "Suggested packages:\n",
      "  libdpkg-perl python3-doc python3-tk python3-venv python3.5-venv\n",
      "  python3.5-doc binutils binfmt-support\n",
      "The following NEW packages will be installed:\n",
      "  dh-python file libexpat1 libmagic1 libmpdec2 libpython3-stdlib\n",
      "  libpython3.5-minimal libpython3.5-stdlib libsqlite3-0 libssl1.0.0\n",
      "  mime-support python3 python3-minimal python3.5 python3.5-minimal\n",
      "0 upgraded, 15 newly installed, 0 to remove and 7 not upgraded.\n",
      "Need to get 6431 kB of archives.\n",
      "After this operation, 33.2 MB of additional disk space will be used.\n",
      "Do you want to continue? [Y/n] Abort.\n",
      "The command '/bin/sh -c apt-get install python3' returned a non-zero code: 1\n"
     ]
    }
   ],
   "source": [
    "!docker build -t portdemo ."
   ]
  },
  {
   "cell_type": "markdown",
   "metadata": {},
   "source": [
    "We now need to export the port 8000 in the container. We can do this using:"
   ]
  },
  {
   "cell_type": "code",
   "execution_count": 8,
   "metadata": {
    "collapsed": false
   },
   "outputs": [
    {
     "name": "stdout",
     "output_type": "stream",
     "text": [
      "Unable to find image 'portdemo:latest' locally\n",
      "docker: Error response from daemon: repository portdemo not found: does not exist or no pull access.\n",
      "See 'docker run --help'.\n"
     ]
    }
   ],
   "source": [
    "!docker run -p 8000:8123 portdemo"
   ]
  },
  {
   "cell_type": "markdown",
   "metadata": {},
   "source": [
    "The numbers following reflect the internal port (8000) that should be connected to the port (8123) on the host system.\n",
    "\n",
    "Once the above command is executing, we should be able to browse the file system in the container by going to the link http://localhost:8123 (or http://127.0.0.1:8123 or http://0.0.0.0:8123) on the host system. \n",
    "\n",
    "We could have mapped port 8000 in the container to port 8000 on the host as well (`-p 8000:8000)."
   ]
  },
  {
   "cell_type": "markdown",
   "metadata": {},
   "source": [
    "## Jupyter Notebook"
   ]
  },
  {
   "cell_type": "code",
   "execution_count": null,
   "metadata": {
    "collapsed": true
   },
   "outputs": [],
   "source": []
  },
  {
   "cell_type": "markdown",
   "metadata": {},
   "source": [
    "A common application of exposing ports is to install computational or data analysis software inside the container, and to control it from a jupyter notebook running inside the container, but to use a webbrowser from the host system to interact with the notebook. In that case, the above example of exposing the port is in principle the right way to go, too. However, as this is a common usecase, there are a number of prepared Dockerfiles to install the notebook inside the container available at https://github.com/jupyter/docker-stacks, so tat one can start the Dockerfile with `FROM jupyter/...`, (instead of `FROM ubuntu/...`) and in this way build on the Dockerfiles that the Jupyter team provides already."
   ]
  },
  {
   "cell_type": "code",
   "execution_count": null,
   "metadata": {
    "collapsed": true
   },
   "outputs": [],
   "source": []
  }
 ],
 "metadata": {
  "kernelspec": {
   "display_name": "Python 3",
   "language": "python",
   "name": "python3"
  },
  "language_info": {
   "codemirror_mode": {
    "name": "ipython",
    "version": 3
   },
   "file_extension": ".py",
   "mimetype": "text/x-python",
   "name": "python",
   "nbconvert_exporter": "python",
   "pygments_lexer": "ipython3",
   "version": "3.6.0"
  }
 },
 "nbformat": 4,
 "nbformat_minor": 2
}
