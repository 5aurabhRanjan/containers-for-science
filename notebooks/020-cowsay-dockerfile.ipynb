{
 "cells": [
  {
   "cell_type": "markdown",
   "metadata": {},
   "source": [
    "# Creating our own docker container"
   ]
  },
  {
   "cell_type": "markdown",
   "metadata": {},
   "source": [
    "To create our own container images, we need to write a file that defines what should be inside the environment. The contents are similar to a bash script, although the syntax is determined by the application to run the container. Here we use docker, and the file is (by default) called `Dockerfile`:"
   ]
  },
  {
   "cell_type": "code",
   "execution_count": 1,
   "metadata": {
    "collapsed": false
   },
   "outputs": [
    {
     "name": "stdout",
     "output_type": "stream",
     "text": [
      "Overwriting Dockerfile\n"
     ]
    }
   ],
   "source": [
    "%%file Dockerfile\n",
    "FROM ubuntu:16.04\n",
    "\n",
    "RUN apt-get update \n",
    "RUN apt-get install -y cowsay\n",
    "\n",
    "# cowsay installs into /usr/games. Make avaible in PATH:\n",
    "RUN ln -s /usr/games/cowsay /usr/local/bin "
   ]
  },
  {
   "cell_type": "markdown",
   "metadata": {},
   "source": [
    "Build a docker image based on the `Dockerfile` above (in the current directory). Call it `cowimage`."
   ]
  },
  {
   "cell_type": "code",
   "execution_count": 2,
   "metadata": {
    "collapsed": false
   },
   "outputs": [
    {
     "name": "stdout",
     "output_type": "stream",
     "text": [
      "Sending build context to Docker daemon 124.4 kB\n",
      "Step 1/4 : FROM ubuntu:16.04\n",
      " ---> 0ef2e08ed3fa\n",
      "Step 2/4 : RUN apt-get update\n",
      " ---> Using cache\n",
      " ---> 64d0cc85e4a4\n",
      "Step 3/4 : RUN apt-get install -y cowsay\n",
      " ---> Using cache\n",
      " ---> e4fb0aeee30a\n",
      "Step 4/4 : RUN ln -s /usr/games/cowsay /usr/local/bin\n",
      " ---> Using cache\n",
      " ---> 78da9d9c6dbd\n",
      "Successfully built 78da9d9c6dbd\n"
     ]
    }
   ],
   "source": [
    "#NBVAL_IGNORE_OUTPUT\n",
    "!docker build -t cowimage ."
   ]
  },
  {
   "cell_type": "markdown",
   "metadata": {},
   "source": [
    "Then we can use this image to run commands, for example cowsay:"
   ]
  },
  {
   "cell_type": "code",
   "execution_count": 3,
   "metadata": {
    "collapsed": false
   },
   "outputs": [
    {
     "name": "stdout",
     "output_type": "stream",
     "text": [
      " _______\r\n",
      "< Hello >\r\n",
      " -------\r\n",
      "        \\   ^__^\r\n",
      "         \\  (oo)\\_______\r\n",
      "            (__)\\       )\\/\\\r\n",
      "                ||----w |\r\n",
      "                ||     ||\r\n"
     ]
    }
   ],
   "source": [
    "!docker run cowimage cowsay \"Hello\""
   ]
  },
  {
   "cell_type": "markdown",
   "metadata": {
    "collapsed": true
   },
   "source": [
    "## Exporting an image to a file\n",
    "Often, having a Dockefile as shown above is sufficient to create a computational environment, in particular if all support libraries and the main code itself are open source, and ideally available online.\n",
    "\n",
    "In cases where we need to transport a created container image, we can use the following commands:"
   ]
  },
  {
   "cell_type": "code",
   "execution_count": 4,
   "metadata": {
    "collapsed": true
   },
   "outputs": [],
   "source": [
    "!docker save cowimage > cowimage.tar"
   ]
  },
  {
   "cell_type": "code",
   "execution_count": 5,
   "metadata": {
    "collapsed": false
   },
   "outputs": [
    {
     "name": "stdout",
     "output_type": "stream",
     "text": [
      "-rw-r--r--  1 fangohr  staff   211M 18 May 16:14 cowimage.tar\r\n"
     ]
    }
   ],
   "source": [
    "!ls -hl cowimage.tar"
   ]
  },
  {
   "cell_type": "markdown",
   "metadata": {},
   "source": [
    "It's worth trying to compress the image:"
   ]
  },
  {
   "cell_type": "code",
   "execution_count": 6,
   "metadata": {
    "collapsed": false
   },
   "outputs": [],
   "source": [
    "!gzip -f cowimage.tar"
   ]
  },
  {
   "cell_type": "code",
   "execution_count": 7,
   "metadata": {
    "collapsed": false
   },
   "outputs": [
    {
     "name": "stdout",
     "output_type": "stream",
     "text": [
      "-rw-r--r--  1 fangohr  staff    88M 18 May 16:14 cowimage.tar.gz\r\n"
     ]
    }
   ],
   "source": [
    "!ls -hl cowimage.tar.gz"
   ]
  },
  {
   "cell_type": "markdown",
   "metadata": {},
   "source": [
    "## Importing an image from a file"
   ]
  },
  {
   "cell_type": "code",
   "execution_count": 8,
   "metadata": {
    "collapsed": false
   },
   "outputs": [
    {
     "name": "stdout",
     "output_type": "stream",
     "text": [
      "Loaded image: cowimage:latest\r\n"
     ]
    }
   ],
   "source": [
    "!docker load < cowimage.tar.gz"
   ]
  },
  {
   "cell_type": "markdown",
   "metadata": {
    "collapsed": true
   },
   "source": [
    "Let's tidy up and remove the large file we just created:"
   ]
  },
  {
   "cell_type": "code",
   "execution_count": 9,
   "metadata": {
    "collapsed": true
   },
   "outputs": [],
   "source": [
    "!rm -f cowimage.tar.gz"
   ]
  }
 ],
 "metadata": {
  "anaconda-cloud": {},
  "kernelspec": {
   "display_name": "Python 3",
   "language": "python",
   "name": "python3"
  },
  "language_info": {
   "codemirror_mode": {
    "name": "ipython",
    "version": 3
   },
   "file_extension": ".py",
   "mimetype": "text/x-python",
   "name": "python",
   "nbconvert_exporter": "python",
   "pygments_lexer": "ipython3",
   "version": "3.6.0"
  }
 },
 "nbformat": 4,
 "nbformat_minor": 1
}
