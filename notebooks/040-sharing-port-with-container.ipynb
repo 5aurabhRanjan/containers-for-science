{
 "cells": [
  {
   "cell_type": "markdown",
   "metadata": {},
   "source": [
    "# Connecting to a port in the container\n",
    "\n",
    "Another common use case is that we start some kind of long-running process in the container, and talk to it through a port. That process could be a Jupyter Notebook, for example. \n",
    "\n",
    "## Example http.server\n",
    "\n",
    "For demonstration purposes, we will use Python's in-built web server. To run it from the host, we could use"
   ]
  },
  {
   "cell_type": "code",
   "execution_count": 1,
   "metadata": {},
   "outputs": [
    {
     "name": "stdout",
     "output_type": "stream",
     "text": [
      "Serving HTTP on 0.0.0.0 port 8000 (http://0.0.0.0:8000/) ...\n",
      "127.0.0.1 - - [29/Jun/2017 09:32:46] \"GET / HTTP/1.1\" 200 -\n",
      "127.0.0.1 - - [29/Jun/2017 09:32:46] code 404, message File not found\n",
      "127.0.0.1 - - [29/Jun/2017 09:32:46] \"GET /favicon.ico HTTP/1.1\" 404 -\n",
      "127.0.0.1 - - [29/Jun/2017 09:32:48] \"GET /000-introduction.ipynb HTTP/1.1\" 200 -\n",
      "127.0.0.1 - - [29/Jun/2017 09:32:52] \"GET /cow-input.txt HTTP/1.1\" 200 -\n",
      "^C\n",
      "\n",
      "Keyboard interrupt received, exiting.\n"
     ]
    }
   ],
   "source": [
    "# NBVAL_SKIP\n",
    "!python -m http.server"
   ]
  },
  {
   "cell_type": "markdown",
   "metadata": {},
   "source": [
    "This program will show the contents of the current file system in a webbrowser interface at port 8000 of this machine. So typically at one or some of these links http://127.0.0.1:8000 or http://localhost:8000 or http://0.0.0.0:8000)."
   ]
  },
  {
   "cell_type": "markdown",
   "metadata": {},
   "source": [
    "(If you have executed the above cell by pressing SHIFT+RETURN, you need to interrupt the http.server process to get the control back in the notebook. This can be done by choosing from the menu \"Kernel\" -> \"Interrupt\".)"
   ]
  },
  {
   "cell_type": "markdown",
   "metadata": {},
   "source": [
    "We will now create a container and run this server inside the container. We like to use a webbrowser on the host machine to inspect the files.\n",
    "\n",
    "First, we create the Dockerfile:"
   ]
  },
  {
   "cell_type": "code",
   "execution_count": 2,
   "metadata": {},
   "outputs": [
    {
     "name": "stdout",
     "output_type": "stream",
     "text": [
      "Overwriting Dockerfile\n"
     ]
    }
   ],
   "source": [
    "%%file Dockerfile\n",
    "FROM ubuntu:16.04\n",
    "\n",
    "RUN apt-get -y update\n",
    "RUN apt-get -y install python3\n",
    "\n",
    "CMD python3 -m http.server"
   ]
  },
  {
   "cell_type": "markdown",
   "metadata": {},
   "source": [
    "The last line starts the `http.server` when the container is run."
   ]
  },
  {
   "cell_type": "code",
   "execution_count": 3,
   "metadata": {},
   "outputs": [
    {
     "name": "stdout",
     "output_type": "stream",
     "text": [
      "Sending build context to Docker daemon 122.9 kB\n",
      "Step 1/4 : FROM ubuntu:16.04\n",
      " ---> 7b9b13f7b9c0\n",
      "Step 2/4 : RUN apt-get -y update\n",
      " ---> Running in 5fb58fcdc349\n",
      "Get:1 http://archive.ubuntu.com/ubuntu xenial InRelease [247 kB]\n",
      "Get:2 http://archive.ubuntu.com/ubuntu xenial-updates InRelease [102 kB]\n",
      "Get:3 http://archive.ubuntu.com/ubuntu xenial-backports InRelease [102 kB]\n",
      "Get:4 http://security.ubuntu.com/ubuntu xenial-security InRelease [102 kB]\n",
      "Get:5 http://archive.ubuntu.com/ubuntu xenial/universe Sources [9802 kB]\n",
      "Get:6 http://security.ubuntu.com/ubuntu xenial-security/universe Sources [39.9 kB]\n",
      "Get:7 http://security.ubuntu.com/ubuntu xenial-security/main amd64 Packages [367 kB]\n",
      "Get:8 http://archive.ubuntu.com/ubuntu xenial/main amd64 Packages [1558 kB]\n",
      "Get:9 http://archive.ubuntu.com/ubuntu xenial/restricted amd64 Packages [14.1 kB]\n",
      "Get:10 http://archive.ubuntu.com/ubuntu xenial/universe amd64 Packages [9827 kB]\n",
      "Get:11 http://security.ubuntu.com/ubuntu xenial-security/restricted amd64 Packages [12.8 kB]\n",
      "Get:12 http://security.ubuntu.com/ubuntu xenial-security/universe amd64 Packages [173 kB]\n",
      "Get:13 http://security.ubuntu.com/ubuntu xenial-security/multiverse amd64 Packages [2937 B]\n",
      "Get:14 http://archive.ubuntu.com/ubuntu xenial/multiverse amd64 Packages [176 kB]\n",
      "Get:15 http://archive.ubuntu.com/ubuntu xenial-updates/universe Sources [203 kB]\n",
      "Get:16 http://archive.ubuntu.com/ubuntu xenial-updates/main amd64 Packages [723 kB]\n",
      "Get:17 http://archive.ubuntu.com/ubuntu xenial-updates/restricted amd64 Packages [13.2 kB]\n",
      "Get:18 http://archive.ubuntu.com/ubuntu xenial-updates/universe amd64 Packages [620 kB]\n",
      "Get:19 http://archive.ubuntu.com/ubuntu xenial-updates/multiverse amd64 Packages [9808 B]\n",
      "Get:20 http://archive.ubuntu.com/ubuntu xenial-backports/main amd64 Packages [4929 B]\n",
      "Get:21 http://archive.ubuntu.com/ubuntu xenial-backports/universe amd64 Packages [6241 B]\n",
      "Fetched 24.1 MB in 3s (8003 kB/s)\n",
      "Reading package lists...\n",
      " ---> b3a23df5e2b7\n",
      "Removing intermediate container 5fb58fcdc349\n",
      "Step 3/4 : RUN apt-get -y install python3\n",
      " ---> Running in 04715eabb040\n",
      "Reading package lists...\n",
      "Building dependency tree...\n",
      "Reading state information...\n",
      "The following additional packages will be installed:\n",
      "  dh-python file libexpat1 libmagic1 libmpdec2 libpython3-stdlib\n",
      "  libpython3.5-minimal libpython3.5-stdlib libsqlite3-0 libssl1.0.0\n",
      "  mime-support python3-minimal python3.5 python3.5-minimal\n",
      "Suggested packages:\n",
      "  libdpkg-perl python3-doc python3-tk python3-venv python3.5-venv\n",
      "  python3.5-doc binutils binfmt-support\n",
      "The following NEW packages will be installed:\n",
      "  dh-python file libexpat1 libmagic1 libmpdec2 libpython3-stdlib\n",
      "  libpython3.5-minimal libpython3.5-stdlib libsqlite3-0 libssl1.0.0\n",
      "  mime-support python3 python3-minimal python3.5 python3.5-minimal\n",
      "0 upgraded, 15 newly installed, 0 to remove and 11 not upgraded.\n",
      "Need to get 6430 kB of archives.\n",
      "After this operation, 33.2 MB of additional disk space will be used.\n",
      "Get:1 http://archive.ubuntu.com/ubuntu xenial-updates/main amd64 libssl1.0.0 amd64 1.0.2g-1ubuntu4.8 [1081 kB]\n",
      "Get:2 http://archive.ubuntu.com/ubuntu xenial-updates/main amd64 libpython3.5-minimal amd64 3.5.2-2ubuntu0~16.04.1 [526 kB]\n",
      "Get:3 http://archive.ubuntu.com/ubuntu xenial-updates/main amd64 libexpat1 amd64 2.1.0-7ubuntu0.16.04.2 [71.3 kB]\n",
      "Get:4 http://archive.ubuntu.com/ubuntu xenial-updates/main amd64 python3.5-minimal amd64 3.5.2-2ubuntu0~16.04.1 [1597 kB]\n",
      "Get:5 http://archive.ubuntu.com/ubuntu xenial/main amd64 python3-minimal amd64 3.5.1-3 [23.3 kB]\n",
      "Get:6 http://archive.ubuntu.com/ubuntu xenial/main amd64 mime-support all 3.59ubuntu1 [31.0 kB]\n",
      "Get:7 http://archive.ubuntu.com/ubuntu xenial/main amd64 libmpdec2 amd64 2.4.2-1 [82.6 kB]\n",
      "Get:8 http://archive.ubuntu.com/ubuntu xenial/main amd64 libsqlite3-0 amd64 3.11.0-1ubuntu1 [396 kB]\n",
      "Get:9 http://archive.ubuntu.com/ubuntu xenial-updates/main amd64 libpython3.5-stdlib amd64 3.5.2-2ubuntu0~16.04.1 [2130 kB]\n",
      "Get:10 http://archive.ubuntu.com/ubuntu xenial-updates/main amd64 python3.5 amd64 3.5.2-2ubuntu0~16.04.1 [165 kB]\n",
      "Get:11 http://archive.ubuntu.com/ubuntu xenial/main amd64 libpython3-stdlib amd64 3.5.1-3 [6818 B]\n",
      "Get:12 http://archive.ubuntu.com/ubuntu xenial-updates/main amd64 dh-python all 2.20151103ubuntu1.1 [74.1 kB]\n",
      "Get:13 http://archive.ubuntu.com/ubuntu xenial/main amd64 python3 amd64 3.5.1-3 [8710 B]\n",
      "Get:14 http://archive.ubuntu.com/ubuntu xenial/main amd64 libmagic1 amd64 1:5.25-2ubuntu1 [216 kB]\n",
      "Get:15 http://archive.ubuntu.com/ubuntu xenial/main amd64 file amd64 1:5.25-2ubuntu1 [21.2 kB]\n",
      "\u001b[91mdebconf: delaying package configuration, since apt-utils is not installed\n",
      "\u001b[0mFetched 6430 kB in 0s (10.1 MB/s)\n",
      "Selecting previously unselected package libssl1.0.0:amd64.\n",
      "(Reading database ... 4764 files and directories currently installed.)\n",
      "Preparing to unpack .../libssl1.0.0_1.0.2g-1ubuntu4.8_amd64.deb ...\n",
      "Unpacking libssl1.0.0:amd64 (1.0.2g-1ubuntu4.8) ...\n",
      "Selecting previously unselected package libpython3.5-minimal:amd64.\n",
      "Preparing to unpack .../libpython3.5-minimal_3.5.2-2ubuntu0~16.04.1_amd64.deb ...\n",
      "Unpacking libpython3.5-minimal:amd64 (3.5.2-2ubuntu0~16.04.1) ...\n",
      "Selecting previously unselected package libexpat1:amd64.\n",
      "Preparing to unpack .../libexpat1_2.1.0-7ubuntu0.16.04.2_amd64.deb ...\n",
      "Unpacking libexpat1:amd64 (2.1.0-7ubuntu0.16.04.2) ...\n",
      "Selecting previously unselected package python3.5-minimal.\n",
      "Preparing to unpack .../python3.5-minimal_3.5.2-2ubuntu0~16.04.1_amd64.deb ...\n",
      "Unpacking python3.5-minimal (3.5.2-2ubuntu0~16.04.1) ...\n",
      "Selecting previously unselected package python3-minimal.\n",
      "Preparing to unpack .../python3-minimal_3.5.1-3_amd64.deb ...\n",
      "Unpacking python3-minimal (3.5.1-3) ...\n",
      "Selecting previously unselected package mime-support.\n",
      "Preparing to unpack .../mime-support_3.59ubuntu1_all.deb ...\n",
      "Unpacking mime-support (3.59ubuntu1) ...\n",
      "Selecting previously unselected package libmpdec2:amd64.\n",
      "Preparing to unpack .../libmpdec2_2.4.2-1_amd64.deb ...\n",
      "Unpacking libmpdec2:amd64 (2.4.2-1) ...\n",
      "Selecting previously unselected package libsqlite3-0:amd64.\n",
      "Preparing to unpack .../libsqlite3-0_3.11.0-1ubuntu1_amd64.deb ...\n",
      "Unpacking libsqlite3-0:amd64 (3.11.0-1ubuntu1) ...\n",
      "Selecting previously unselected package libpython3.5-stdlib:amd64.\n",
      "Preparing to unpack .../libpython3.5-stdlib_3.5.2-2ubuntu0~16.04.1_amd64.deb ...\n",
      "Unpacking libpython3.5-stdlib:amd64 (3.5.2-2ubuntu0~16.04.1) ...\n",
      "Selecting previously unselected package python3.5.\n",
      "Preparing to unpack .../python3.5_3.5.2-2ubuntu0~16.04.1_amd64.deb ...\n",
      "Unpacking python3.5 (3.5.2-2ubuntu0~16.04.1) ...\n",
      "Selecting previously unselected package libpython3-stdlib:amd64.\n",
      "Preparing to unpack .../libpython3-stdlib_3.5.1-3_amd64.deb ...\n",
      "Unpacking libpython3-stdlib:amd64 (3.5.1-3) ...\n",
      "Selecting previously unselected package dh-python.\n",
      "Preparing to unpack .../dh-python_2.20151103ubuntu1.1_all.deb ...\n",
      "Unpacking dh-python (2.20151103ubuntu1.1) ...\n",
      "Processing triggers for libc-bin (2.23-0ubuntu7) ...\n",
      "Setting up libssl1.0.0:amd64 (1.0.2g-1ubuntu4.8) ...\n",
      "debconf: unable to initialize frontend: Dialog\n",
      "debconf: (TERM is not set, so the dialog frontend is not usable.)\n",
      "debconf: falling back to frontend: Readline\n",
      "debconf: unable to initialize frontend: Readline\n",
      "debconf: (Can't locate Term/ReadLine.pm in @INC (you may need to install the Term::ReadLine module) (@INC contains: /etc/perl /usr/local/lib/x86_64-linux-gnu/perl/5.22.1 /usr/local/share/perl/5.22.1 /usr/lib/x86_64-linux-gnu/perl5/5.22 /usr/share/perl5 /usr/lib/x86_64-linux-gnu/perl/5.22 /usr/share/perl/5.22 /usr/local/lib/site_perl /usr/lib/x86_64-linux-gnu/perl-base .) at /usr/share/perl5/Debconf/FrontEnd/Readline.pm line 7.)\n",
      "debconf: falling back to frontend: Teletype\n",
      "Setting up libpython3.5-minimal:amd64 (3.5.2-2ubuntu0~16.04.1) ...\n",
      "Setting up libexpat1:amd64 (2.1.0-7ubuntu0.16.04.2) ...\n",
      "Setting up python3.5-minimal (3.5.2-2ubuntu0~16.04.1) ...\n",
      "Setting up python3-minimal (3.5.1-3) ...\n",
      "Processing triggers for libc-bin (2.23-0ubuntu7) ...\n",
      "Selecting previously unselected package python3.\n",
      "(Reading database ... 5740 files and directories currently installed.)\n",
      "Preparing to unpack .../python3_3.5.1-3_amd64.deb ...\n",
      "Unpacking python3 (3.5.1-3) ...\n",
      "Selecting previously unselected package libmagic1:amd64.\n",
      "Preparing to unpack .../libmagic1_1%3a5.25-2ubuntu1_amd64.deb ...\n",
      "Unpacking libmagic1:amd64 (1:5.25-2ubuntu1) ...\n"
     ]
    },
    {
     "name": "stdout",
     "output_type": "stream",
     "text": [
      "Selecting previously unselected package file.\n",
      "Preparing to unpack .../file_1%3a5.25-2ubuntu1_amd64.deb ...\n",
      "Unpacking file (1:5.25-2ubuntu1) ...\n",
      "Processing triggers for libc-bin (2.23-0ubuntu7) ...\n",
      "Setting up mime-support (3.59ubuntu1) ...\n",
      "Setting up libmpdec2:amd64 (2.4.2-1) ...\n",
      "Setting up libsqlite3-0:amd64 (3.11.0-1ubuntu1) ...\n",
      "Setting up libpython3.5-stdlib:amd64 (3.5.2-2ubuntu0~16.04.1) ...\n",
      "Setting up python3.5 (3.5.2-2ubuntu0~16.04.1) ...\n",
      "Setting up libpython3-stdlib:amd64 (3.5.1-3) ...\n",
      "Setting up libmagic1:amd64 (1:5.25-2ubuntu1) ...\n",
      "Setting up file (1:5.25-2ubuntu1) ...\n",
      "Setting up python3 (3.5.1-3) ...\n",
      "running python rtupdate hooks for python3.5...\n",
      "running python post-rtupdate hooks for python3.5...\n",
      "Setting up dh-python (2.20151103ubuntu1.1) ...\n",
      "Processing triggers for libc-bin (2.23-0ubuntu7) ...\n",
      " ---> bcae71a4eeee\n",
      "Removing intermediate container 04715eabb040\n",
      "Step 4/4 : CMD python3 -m http.server\n",
      " ---> Running in e2e584b4cd02\n",
      " ---> c20c37734cb0\n",
      "Removing intermediate container e2e584b4cd02\n",
      "Successfully built c20c37734cb0\n"
     ]
    }
   ],
   "source": [
    "#NBVAL_IGNORE_OUTPUT\n",
    "!docker build -t portdemo ."
   ]
  },
  {
   "cell_type": "markdown",
   "metadata": {},
   "source": [
    "We now need to export the port 8000 in the container. We can do this using:"
   ]
  },
  {
   "cell_type": "code",
   "execution_count": 4,
   "metadata": {},
   "outputs": [
    {
     "name": "stdout",
     "output_type": "stream",
     "text": [
      "^C\r\n"
     ]
    }
   ],
   "source": [
    "#NBVAL_SKIP\n",
    "!docker run -p 8123:8000 portdemo"
   ]
  },
  {
   "cell_type": "markdown",
   "metadata": {},
   "source": [
    "The numbers following reflect the internal port (8000) that should be connected to the port (8123) on the host system.\n",
    "\n",
    "Once the above command is executing, we should be able to browse the file system in the container by going to the link http://localhost:8123 (or http://127.0.0.1:8123 or http://0.0.0.0:8123) on the host system. \n",
    "\n",
    "We could have mapped port 8000 in the container to port 8000 on the host as well (`-p 8000:8000`).\n",
    "\n",
    "As before, to top the process, select `Kernel->Interrupt`."
   ]
  },
  {
   "cell_type": "markdown",
   "metadata": {},
   "source": [
    "## Jupyter Notebook"
   ]
  },
  {
   "cell_type": "markdown",
   "metadata": {},
   "source": [
    "A common application of exposing ports is to install computational or data analysis software inside the container, and to control it from a Jupyter notebook running inside the container, but to use a webbrowser from the host system to interact with the notebook. In that case, the above example of exposing the port is in principle the right way to go, too. However, as this is a common usecase, there are a number of prepared Dockerfiles to install the notebook inside the container available at https://github.com/jupyter/docker-stacks, so tat one can start the Dockerfile with `FROM jupyter/...`, (instead of `FROM ubuntu/...`) and in this way build on the Dockerfiles that the Jupyter team provides already.\n",
    "\n",
    "The container image for https://github.com/jupyter/docker-stacks/tree/master/scipy-notebook might be a good starting point for work based on the Scientific Python stack."
   ]
  }
 ],
 "metadata": {
  "kernelspec": {
   "display_name": "Python 3",
   "language": "python",
   "name": "python3"
  },
  "language_info": {
   "codemirror_mode": {
    "name": "ipython",
    "version": 3
   },
   "file_extension": ".py",
   "mimetype": "text/x-python",
   "name": "python",
   "nbconvert_exporter": "python",
   "pygments_lexer": "ipython3",
   "version": "3.6.0"
  }
 },
 "nbformat": 4,
 "nbformat_minor": 2
}
