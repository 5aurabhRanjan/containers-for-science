{
 "cells": [
  {
   "cell_type": "markdown",
   "metadata": {},
   "source": [
    "# References\n",
    "\n",
    "A number of useful references I came across while putting together these notebooks.\n",
    "\n",
    "- Carl Boettiger\n",
    "\n",
    "```\n",
    "@article{DBLP:journals/corr/Boettiger14,\n",
    "  author    = {Carl Boettiger},\n",
    "  title     = {An introduction to Docker for reproducible research, with examples\n",
    "               from the {R} environment},\n",
    "  journal   = {CoRR},\n",
    "  volume    = {abs/1410.0846},\n",
    "  year      = {2014},\n",
    "  url       = {http://arxiv.org/abs/1410.0846},\n",
    "  timestamp = {Sun, 02 Nov 2014 11:25:59 +0100},\n",
    "  biburl    = {http://dblp.uni-trier.de/rec/bib/journals/corr/Boettiger14},\n",
    "  bibsource = {dblp computer science bibliography, http://dblp.org}\n",
    "}\n",
    "```\n",
    "\n",
    "- Titus Brown\n",
    "\n",
    "  http://angus.readthedocs.io/en/2016/week3/CTB_docker.html\n",
    "  \n",
    "  http://ivory.idyll.org/blog/2015-docker-and-replicating-papers.html\n",
    "  \n",
    "- David Koop\n",
    "  \n",
    "  http://www.cis.umassd.edu/~dkoop/cis602-2016fa/lectures/lecture15.pdf"
   ]
  },
  {
   "cell_type": "code",
   "execution_count": null,
   "metadata": {
    "collapsed": true
   },
   "outputs": [],
   "source": []
  }
 ],
 "metadata": {
  "kernelspec": {
   "display_name": "Python 3",
   "language": "python",
   "name": "python3"
  },
  "language_info": {
   "codemirror_mode": {
    "name": "ipython",
    "version": 3
   },
   "file_extension": ".py",
   "mimetype": "text/x-python",
   "name": "python",
   "nbconvert_exporter": "python",
   "pygments_lexer": "ipython3",
   "version": "3.6.0"
  }
 },
 "nbformat": 4,
 "nbformat_minor": 2
}
